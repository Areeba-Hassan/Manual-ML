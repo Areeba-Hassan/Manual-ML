{
 "cells": [
  {
   "cell_type": "code",
   "execution_count": 2,
   "id": "54c0a14b-a955-4811-87ee-d2a5b6cd3594",
   "metadata": {},
   "outputs": [],
   "source": [
    "import pandas as pd\n",
    "import numpy as np\n",
    "import seaborn as sns\n",
    "import matplotlib.pyplot as plt\n",
    "%matplotlib inline"
   ]
  },
  {
   "cell_type": "code",
   "execution_count": 14,
   "id": "2b6db5e9-7383-4b85-967c-b6d0edda43ac",
   "metadata": {},
   "outputs": [
    {
     "data": {
      "text/plain": [
       "1338"
      ]
     },
     "execution_count": 14,
     "metadata": {},
     "output_type": "execute_result"
    }
   ],
   "source": [
    "data = pd.read_csv(\"medical_cost.csv\")\n",
    "len(data)"
   ]
  },
  {
   "cell_type": "code",
   "execution_count": 16,
   "id": "f83073ee-c23a-4507-a34e-9c4efc66d070",
   "metadata": {},
   "outputs": [
    {
     "data": {
      "text/html": [
       "<div>\n",
       "<style scoped>\n",
       "    .dataframe tbody tr th:only-of-type {\n",
       "        vertical-align: middle;\n",
       "    }\n",
       "\n",
       "    .dataframe tbody tr th {\n",
       "        vertical-align: top;\n",
       "    }\n",
       "\n",
       "    .dataframe thead th {\n",
       "        text-align: right;\n",
       "    }\n",
       "</style>\n",
       "<table border=\"1\" class=\"dataframe\">\n",
       "  <thead>\n",
       "    <tr style=\"text-align: right;\">\n",
       "      <th></th>\n",
       "      <th>Unnamed: 0</th>\n",
       "      <th>age</th>\n",
       "      <th>sex</th>\n",
       "      <th>bmi</th>\n",
       "      <th>children</th>\n",
       "      <th>smoker</th>\n",
       "      <th>region</th>\n",
       "      <th>charges</th>\n",
       "    </tr>\n",
       "  </thead>\n",
       "  <tbody>\n",
       "    <tr>\n",
       "      <th>0</th>\n",
       "      <td>1</td>\n",
       "      <td>19</td>\n",
       "      <td>female</td>\n",
       "      <td>27.900</td>\n",
       "      <td>0</td>\n",
       "      <td>yes</td>\n",
       "      <td>southwest</td>\n",
       "      <td>16884.92400</td>\n",
       "    </tr>\n",
       "    <tr>\n",
       "      <th>1</th>\n",
       "      <td>2</td>\n",
       "      <td>18</td>\n",
       "      <td>male</td>\n",
       "      <td>33.770</td>\n",
       "      <td>1</td>\n",
       "      <td>no</td>\n",
       "      <td>southeast</td>\n",
       "      <td>1725.55230</td>\n",
       "    </tr>\n",
       "    <tr>\n",
       "      <th>2</th>\n",
       "      <td>3</td>\n",
       "      <td>28</td>\n",
       "      <td>male</td>\n",
       "      <td>33.000</td>\n",
       "      <td>3</td>\n",
       "      <td>no</td>\n",
       "      <td>southeast</td>\n",
       "      <td>4449.46200</td>\n",
       "    </tr>\n",
       "    <tr>\n",
       "      <th>3</th>\n",
       "      <td>4</td>\n",
       "      <td>33</td>\n",
       "      <td>male</td>\n",
       "      <td>22.705</td>\n",
       "      <td>0</td>\n",
       "      <td>no</td>\n",
       "      <td>northwest</td>\n",
       "      <td>21984.47061</td>\n",
       "    </tr>\n",
       "    <tr>\n",
       "      <th>4</th>\n",
       "      <td>5</td>\n",
       "      <td>32</td>\n",
       "      <td>male</td>\n",
       "      <td>28.880</td>\n",
       "      <td>0</td>\n",
       "      <td>no</td>\n",
       "      <td>northwest</td>\n",
       "      <td>3866.85520</td>\n",
       "    </tr>\n",
       "  </tbody>\n",
       "</table>\n",
       "</div>"
      ],
      "text/plain": [
       "   Unnamed: 0  age     sex     bmi  children smoker     region      charges\n",
       "0           1   19  female  27.900         0    yes  southwest  16884.92400\n",
       "1           2   18    male  33.770         1     no  southeast   1725.55230\n",
       "2           3   28    male  33.000         3     no  southeast   4449.46200\n",
       "3           4   33    male  22.705         0     no  northwest  21984.47061\n",
       "4           5   32    male  28.880         0     no  northwest   3866.85520"
      ]
     },
     "execution_count": 16,
     "metadata": {},
     "output_type": "execute_result"
    }
   ],
   "source": [
    "data.head(5)"
   ]
  },
  {
   "cell_type": "code",
   "execution_count": 40,
   "id": "ae9b4e90-18ce-4ba5-b89b-643571c1d787",
   "metadata": {},
   "outputs": [
    {
     "name": "stdout",
     "output_type": "stream",
     "text": [
      "<class 'pandas.core.frame.DataFrame'>\n",
      "RangeIndex: 1338 entries, 0 to 1337\n",
      "Data columns (total 7 columns):\n",
      " #   Column    Non-Null Count  Dtype  \n",
      "---  ------    --------------  -----  \n",
      " 0   age       1338 non-null   int64  \n",
      " 1   sex       1338 non-null   object \n",
      " 2   bmi       1338 non-null   float64\n",
      " 3   children  1338 non-null   int64  \n",
      " 4   smoker    1338 non-null   object \n",
      " 5   region    1338 non-null   object \n",
      " 6   charges   1338 non-null   float64\n",
      "dtypes: float64(2), int64(2), object(3)\n",
      "memory usage: 73.3+ KB\n"
     ]
    }
   ],
   "source": [
    "data.info()"
   ]
  },
  {
   "cell_type": "code",
   "execution_count": 46,
   "id": "5f99c9e4-5243-4345-924f-add7abc95ea3",
   "metadata": {},
   "outputs": [
    {
     "data": {
      "text/plain": [
       "age         0\n",
       "sex         0\n",
       "bmi         0\n",
       "children    0\n",
       "smoker      0\n",
       "region      0\n",
       "charges     0\n",
       "dtype: int64"
      ]
     },
     "execution_count": 46,
     "metadata": {},
     "output_type": "execute_result"
    }
   ],
   "source": [
    "#checking for NaNs\n",
    "data.isnull().sum()\n",
    "#no NaNs found"
   ]
  },
  {
   "cell_type": "code",
   "execution_count": 48,
   "id": "15abd069-9b33-44fb-87f7-85a2bd28065a",
   "metadata": {},
   "outputs": [
    {
     "data": {
      "text/plain": [
       "age           int64\n",
       "sex          object\n",
       "bmi         float64\n",
       "children      int64\n",
       "smoker       object\n",
       "region       object\n",
       "charges     float64\n",
       "dtype: object"
      ]
     },
     "execution_count": 48,
     "metadata": {},
     "output_type": "execute_result"
    }
   ],
   "source": [
    "#checking data types of features\n",
    "data.dtypes"
   ]
  },
  {
   "cell_type": "code",
   "execution_count": 84,
   "id": "754e20f8-5652-4dd0-9a6b-76a6429fd883",
   "metadata": {},
   "outputs": [
    {
     "data": {
      "image/png": "[encoded data removed]",
      "text/plain": [
       "<Figure size 1000x400 with 1 Axes>"
      ]
     },
     "metadata": {},
     "output_type": "display_data"
    }
   ],
   "source": [
    "plt.figure(figsize=(10, 4))\n",
    "sns.histplot(data['charges'], alpha = 0.7, color = 'red')\n",
    "plt.title('Distribution of charges')\n",
    "plt.show()\n",
    "#this distribution of charges is skewed\n",
    "#more people pay less, less people pay more"
   ]
  },
  {
   "cell_type": "code",
   "execution_count": 94,
   "id": "0f0040db-3afd-4237-afbc-3dd0c47dd434",
   "metadata": {},
   "outputs": [
    {
     "data": {
      "image/png": "[encoded data removed]",
      "text/plain": [
       "<Figure size 1000x400 with 1 Axes>"
      ]
     },
     "metadata": {},
     "output_type": "display_data"
    }
   ],
   "source": [
    "#plotting log transformed charges\n",
    "plt.figure(figsize=(10, 4))\n",
    "sns.histplot(np.log1p(data['charges']), alpha = 0.7, color = 'blue')\n",
    "plt.title('Distribution of charges after log transformation')\n",
    "plt.show()"
   ]
  },
  {
   "cell_type": "code",
   "execution_count": 156,
   "id": "7be86378-cc91-4247-8c25-2fa07e55a06e",
   "metadata": {},
   "outputs": [
    {
     "data": {
      "image/png": "[encoded data removed]",
      "text/plain": [
       "<Figure size 400x600 with 1 Axes>"
      ]
     },
     "metadata": {},
     "output_type": "display_data"
    }
   ],
   "source": [
    "plt.figure(figsize = (4, 6))\n",
    "sns.boxplot(data.charges, color = 'coral')\n",
    "plt.show()"
   ]
  },
  {
   "cell_type": "code",
   "execution_count": 158,
   "id": "8de0e4fd-168d-4fea-86f7-a766fc51cb41",
   "metadata": {},
   "outputs": [
    {
     "data": {
      "image/png": "[encoded data removed]",
      "text/plain": [
       "<Figure size 400x600 with 1 Axes>"
      ]
     },
     "metadata": {},
     "output_type": "display_data"
    }
   ],
   "source": [
    "#log transformation pretty much normalizes the data, reducing extremes\n",
    "plt.figure(figsize = (4, 6))\n",
    "sns.boxplot(np.log1p(data.charges), color = 'coral')\n",
    "plt.show()"
   ]
  },
  {
   "cell_type": "code",
   "execution_count": 162,
   "id": "a9751fa9-97fb-4141-911f-f10eb7762f5a",
   "metadata": {},
   "outputs": [
    {
     "data": {
      "text/html": [
       "<div>\n",
       "<style scoped>\n",
       "    .dataframe tbody tr th:only-of-type {\n",
       "        vertical-align: middle;\n",
       "    }\n",
       "\n",
       "    .dataframe tbody tr th {\n",
       "        vertical-align: top;\n",
       "    }\n",
       "\n",
       "    .dataframe thead th {\n",
       "        text-align: right;\n",
       "    }\n",
       "</style>\n",
       "<table border=\"1\" class=\"dataframe\">\n",
       "  <thead>\n",
       "    <tr style=\"text-align: right;\">\n",
       "      <th></th>\n",
       "      <th>age</th>\n",
       "      <th>sex</th>\n",
       "      <th>bmi</th>\n",
       "      <th>children</th>\n",
       "      <th>smoker</th>\n",
       "      <th>region</th>\n",
       "      <th>charges</th>\n",
       "      <th>log_charges</th>\n",
       "    </tr>\n",
       "  </thead>\n",
       "  <tbody>\n",
       "    <tr>\n",
       "      <th>0</th>\n",
       "      <td>19</td>\n",
       "      <td>female</td>\n",
       "      <td>27.900</td>\n",
       "      <td>0</td>\n",
       "      <td>yes</td>\n",
       "      <td>southwest</td>\n",
       "      <td>16884.92400</td>\n",
       "      <td>9.734236</td>\n",
       "    </tr>\n",
       "    <tr>\n",
       "      <th>1</th>\n",
       "      <td>18</td>\n",
       "      <td>male</td>\n",
       "      <td>33.770</td>\n",
       "      <td>1</td>\n",
       "      <td>no</td>\n",
       "      <td>southeast</td>\n",
       "      <td>1725.55230</td>\n",
       "      <td>7.453882</td>\n",
       "    </tr>\n",
       "    <tr>\n",
       "      <th>2</th>\n",
       "      <td>28</td>\n",
       "      <td>male</td>\n",
       "      <td>33.000</td>\n",
       "      <td>3</td>\n",
       "      <td>no</td>\n",
       "      <td>southeast</td>\n",
       "      <td>4449.46200</td>\n",
       "      <td>8.400763</td>\n",
       "    </tr>\n",
       "    <tr>\n",
       "      <th>3</th>\n",
       "      <td>33</td>\n",
       "      <td>male</td>\n",
       "      <td>22.705</td>\n",
       "      <td>0</td>\n",
       "      <td>no</td>\n",
       "      <td>northwest</td>\n",
       "      <td>21984.47061</td>\n",
       "      <td>9.998137</td>\n",
       "    </tr>\n",
       "    <tr>\n",
       "      <th>4</th>\n",
       "      <td>32</td>\n",
       "      <td>male</td>\n",
       "      <td>28.880</td>\n",
       "      <td>0</td>\n",
       "      <td>no</td>\n",
       "      <td>northwest</td>\n",
       "      <td>3866.85520</td>\n",
       "      <td>8.260455</td>\n",
       "    </tr>\n",
       "  </tbody>\n",
       "</table>\n",
       "</div>"
      ],
      "text/plain": [
       "   age     sex     bmi  children smoker     region      charges  log_charges\n",
       "0   19  female  27.900         0    yes  southwest  16884.92400     9.734236\n",
       "1   18    male  33.770         1     no  southeast   1725.55230     7.453882\n",
       "2   28    male  33.000         3     no  southeast   4449.46200     8.400763\n",
       "3   33    male  22.705         0     no  northwest  21984.47061     9.998137\n",
       "4   32    male  28.880         0     no  northwest   3866.85520     8.260455"
      ]
     },
     "execution_count": 162,
     "metadata": {},
     "output_type": "execute_result"
    }
   ],
   "source": [
    "#adding new col to data\n",
    "data['log_charges'] = np.log1p(data.charges)\n",
    "data.head(5)"
   ]
  },
  {
   "cell_type": "code",
   "execution_count": 164,
   "id": "1cbf9937-f3c8-4bdb-92d4-8449fbb7227b",
   "metadata": {},
   "outputs": [
    {
     "data": {
      "text/plain": [
       "-0.08981728740026824"
      ]
     },
     "execution_count": 164,
     "metadata": {},
     "output_type": "execute_result"
    }
   ],
   "source": [
    "data.log_charges.skew()\n",
    "#very slightly negatively skewed after log transformation"
   ]
  },
  {
   "cell_type": "code",
   "execution_count": 296,
   "id": "d74888af-a274-44e2-8ad8-d46931e91f18",
   "metadata": {},
   "outputs": [],
   "source": [
    "#creating framework for validation\n",
    "\n",
    "n = len(data)\n",
    "val = int(0.2 * n)\n",
    "test = int(0.2 * n)\n",
    "train = n - (val + test)\n",
    "\n",
    "#shuffling the data so similar categories aren't all clumped\n",
    "\n",
    "np.random.seed(2)\n",
    "\n",
    "ind = np.arange(n)\n",
    "np.random.shuffle(ind)\n",
    "\n",
    "data_shuffled = data.iloc[ind]\n",
    "\n",
    "#doing a 60-20-20 split\n",
    "\n",
    "train_dat = data_shuffled[:train].copy()\n",
    "val_dat = data_shuffled[train:train+val].copy()\n",
    "test_dat = data_shuffled[train+val:].copy()"
   ]
  },
  {
   "cell_type": "code",
   "execution_count": 298,
   "id": "a4797eb1-e520-4c68-a2e3-0d10f7808526",
   "metadata": {},
   "outputs": [
    {
     "data": {
      "text/plain": [
       "True"
      ]
     },
     "execution_count": 298,
     "metadata": {},
     "output_type": "execute_result"
    }
   ],
   "source": [
    "#extracting charges for training, validation and testing\n",
    "y_train = train_dat.log_charges.values\n",
    "y_val = val_dat.log_charges.values\n",
    "y_test = test_dat.log_charges.values\n",
    "\n",
    "n == y_train.shape[0] + y_val.shape[0] + y_test.shape[0] #should be true"
   ]
  },
  {
   "cell_type": "code",
   "execution_count": 440,
   "id": "0cee13ea-1c29-4697-a066-be14a666ce2c",
   "metadata": {
    "scrolled": true
   },
   "outputs": [],
   "source": [
    "#feature engineering\n",
    "#BMI, children and age already numeric\n",
    "#sex and smoker need one-hot encoding\n",
    "\n",
    "def feature_eng(df):\n",
    "    df = df.copy()\n",
    "    df.loc[:, 'female'] = (df['sex'] == 'female').astype(int)\n",
    "    df.loc[:, 'smoke'] = (df['smoker'] == 'yes').astype(int)\n",
    "    df.loc[:, 'bmi-smoke'] = (df['smoke'] * df['bmi'])\n",
    "    df.loc[:, 'bmi-smoke-sq'] = (df['bmi-smoke'] ** 2)\n",
    "    df.loc[:, 'bmi-sq'] = (df['bmi'] ** 2)\n",
    "    features = ['smoke', 'female', 'bmi','age', 'children', 'bmi-smoke', 'bmi-smoke-sq', 'bmi-sq']\n",
    "    return df[features]"
   ]
  },
  {
   "cell_type": "code",
   "execution_count": 442,
   "id": "1a817fb8-a198-4341-bbb6-09098f34299a",
   "metadata": {},
   "outputs": [
    {
     "data": {
      "text/plain": [
       "True"
      ]
     },
     "execution_count": 442,
     "metadata": {},
     "output_type": "execute_result"
    }
   ],
   "source": [
    "#getting features\n",
    "x_train = feature_eng(train_dat).values\n",
    "x_val = feature_eng(val_dat).values\n",
    "x_test = feature_eng(test_dat).values\n",
    "\n",
    "x_train.shape[0] + x_val.shape[0] + x_test.shape[0] == n  #should be true"
   ]
  },
  {
   "cell_type": "code",
   "execution_count": 444,
   "id": "86df9d08-2613-4816-879d-ae574448935a",
   "metadata": {},
   "outputs": [],
   "source": [
    "#adding bias term\n",
    "x_train = np.column_stack([np.ones(x_train.shape[0]), x_train])\n",
    "x_test = np.column_stack([np.ones(x_test.shape[0]), x_test])\n",
    "x_val = np.column_stack([np.ones(x_val.shape[0]), x_val])"
   ]
  },
  {
   "cell_type": "code",
   "execution_count": 446,
   "id": "216024cf-f1c7-4767-b311-89aa0f1180d1",
   "metadata": {},
   "outputs": [],
   "source": [
    "#lin regression model\n",
    "def train_reg (x,y):\n",
    "    xtx = x.T.dot(x)\n",
    "    xtx_inv = np.linalg.inv(xtx)\n",
    "    w = xtx_inv.dot(x.T).dot(y)\n",
    "    return w"
   ]
  },
  {
   "cell_type": "code",
   "execution_count": 448,
   "id": "bb2edf2b-cfec-46bf-bbd1-c19fca6c6eda",
   "metadata": {},
   "outputs": [],
   "source": [
    "#prediction\n",
    "def predict(x,w):\n",
    "    return x.dot(w)"
   ]
  },
  {
   "cell_type": "code",
   "execution_count": 450,
   "id": "d1d81ea8-a70b-4573-a0bb-ca2653d6819d",
   "metadata": {},
   "outputs": [],
   "source": [
    "def rmse(y, y_pred):\n",
    "    se = (y-y_pred) ** 2\n",
    "    mse = se.mean()\n",
    "    return np.sqrt(mse)"
   ]
  },
  {
   "cell_type": "code",
   "execution_count": 452,
   "id": "5dfe4b91-db62-4bac-854b-c4b4ef6e5eaf",
   "metadata": {},
   "outputs": [],
   "source": [
    "#training the model\n",
    "w = train_reg(x_train, y_train)\n",
    "y_pred = predict(x_val, w)\n",
    "y_pred_test  = predict(x_test, w)"
   ]
  },
  {
   "cell_type": "code",
   "execution_count": 454,
   "id": "5028cea7-3f8b-41f6-9934-a5b88196fede",
   "metadata": {},
   "outputs": [
    {
     "name": "stdout",
     "output_type": "stream",
     "text": [
      "RMSE FOR TRAINING: 0.41050912009205515\n",
      "RMSE FOR VAL: 0.5096107654116868\n",
      "RMSE FOR TESTING: 0.40731416049404184\n"
     ]
    }
   ],
   "source": [
    "# calculating rmse\n",
    "print('RMSE FOR TRAINING:', rmse(y_train, predict(x_train, w)))\n",
    "print('RMSE FOR VAL:', rmse(y_val, predict(x_val, w)))\n",
    "print('RMSE FOR TESTING:', rmse(y_test, predict(x_test, w)))"
   ]
  },
  {
   "cell_type": "code",
   "execution_count": 456,
   "id": "de5f020a-affb-4ea5-8f42-20556ab95bd0",
   "metadata": {},
   "outputs": [
    {
     "data": {
      "image/png": "[encoded data removed]",
      "text/plain": [
       "<Figure size 600x400 with 1 Axes>"
      ]
     },
     "metadata": {},
     "output_type": "display_data"
    }
   ],
   "source": [
    "plt.figure(figsize= (6,4))\n",
    "\n",
    "sns.histplot(np.expm1(y_train), label = 'target', alpha = 0.5, color = 'green', bins = 40)\n",
    "sns.histplot(np.expm1(y_pred), label = 'prediction', alpha = 0.5, color = 'cyan', bins = 40)\n",
    "sns.histplot(np.expm1(y_pred_test), label ='test', alpha = 0.5, color = 'red', bins = 40)\n",
    "\n",
    "plt.show()"
   ]
  },
  {
   "cell_type": "code",
   "execution_count": 466,
   "id": "48fa27bd-d8d4-4e75-94d5-42c41641dd7a",
   "metadata": {},
   "outputs": [
    {
     "data": {
      "text/html": [
       "<div>\n",
       "<style scoped>\n",
       "    .dataframe tbody tr th:only-of-type {\n",
       "        vertical-align: middle;\n",
       "    }\n",
       "\n",
       "    .dataframe tbody tr th {\n",
       "        vertical-align: top;\n",
       "    }\n",
       "\n",
       "    .dataframe thead th {\n",
       "        text-align: right;\n",
       "    }\n",
       "</style>\n",
       "<table border=\"1\" class=\"dataframe\">\n",
       "  <thead>\n",
       "    <tr style=\"text-align: right;\">\n",
       "      <th></th>\n",
       "      <th>smoke</th>\n",
       "      <th>female</th>\n",
       "      <th>bmi</th>\n",
       "      <th>age</th>\n",
       "      <th>children</th>\n",
       "      <th>bmi-smoke</th>\n",
       "      <th>bmi-smoke-sq</th>\n",
       "      <th>bmi-sq</th>\n",
       "    </tr>\n",
       "  </thead>\n",
       "  <tbody>\n",
       "    <tr>\n",
       "      <th>0</th>\n",
       "      <td>1</td>\n",
       "      <td>0</td>\n",
       "      <td>28.008</td>\n",
       "      <td>33</td>\n",
       "      <td>3</td>\n",
       "      <td>28.008</td>\n",
       "      <td>784.448064</td>\n",
       "      <td>784.448064</td>\n",
       "    </tr>\n",
       "  </tbody>\n",
       "</table>\n",
       "</div>"
      ],
      "text/plain": [
       "   smoke  female     bmi  age  children  bmi-smoke  bmi-smoke-sq      bmi-sq\n",
       "0      1       0  28.008   33         3     28.008    784.448064  784.448064"
      ]
     },
     "execution_count": 466,
     "metadata": {},
     "output_type": "execute_result"
    }
   ],
   "source": [
    "#using the model\n",
    "x = {'smoker' : 'yes',\n",
    "     'sex': 'male',\n",
    "     'bmi': 28.008,\n",
    "     'age': 33,\n",
    "     'children': 3}\n",
    "\n",
    "prep_data = feature_eng(pd.DataFrame([x]))\n",
    "prep_data"
   ]
  },
  {
   "cell_type": "code",
   "execution_count": 486,
   "id": "666100dc-7d84-4d56-88f9-5b2764d85439",
   "metadata": {},
   "outputs": [],
   "source": [
    "x2 = prep_data.values\n",
    "add_bias = np.column_stack([np.ones(x2.shape[0]), x2])\n",
    "predict_cost = predict(add_bias, w)\n",
    "final_pred = np.expm1(predict_cost)"
   ]
  },
  {
   "cell_type": "code",
   "execution_count": 490,
   "id": "ed89ed5b-cfc4-4188-864a-3395cbec2143",
   "metadata": {},
   "outputs": [
    {
     "data": {
      "text/plain": [
       "26295.2429809893"
      ]
     },
     "execution_count": 490,
     "metadata": {},
     "output_type": "execute_result"
    }
   ],
   "source": [
    "final_pred[0]"
   ]
  }
 ],
 "metadata": {
  "kernelspec": {
   "display_name": "Python [conda env:base] *",
   "language": "python",
   "name": "conda-base-py"
  },
  "language_info": {
   "codemirror_mode": {
    "name": "ipython",
    "version": 3
   },
   "file_extension": ".py",
   "mimetype": "text/x-python",
   "name": "python",
   "nbconvert_exporter": "python",
   "pygments_lexer": "ipython3",
   "version": "3.12.7"
  }
 },
 "nbformat": 4,
 "nbformat_minor": 5
}
